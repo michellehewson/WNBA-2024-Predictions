{
 "cells": [
  {
   "cell_type": "code",
   "execution_count": 1,
   "id": "f760e94b-260c-4baf-9c6f-0dc24fb8597a",
   "metadata": {},
   "outputs": [],
   "source": [
    "import os\n",
    "import pickle\n",
    "import re\n",
    "import time\n",
    "from datetime import date, datetime\n",
    "\n",
    "from bs4 import BeautifulSoup\n",
    "import matplotlib.pyplot as plt\n",
    "import numpy as np\n",
    "import pandas as pd\n",
    "import requests\n",
    "import seaborn as sns\n",
    "\n",
    "from warnings import simplefilter\n",
    "simplefilter('ignore', category=FutureWarning)"
   ]
  },
  {
   "cell_type": "code",
   "execution_count": 2,
   "id": "b3b7e6e2-6066-4194-9e0a-223c7865aa28",
   "metadata": {},
   "outputs": [
    {
     "name": "stdout",
     "output_type": "stream",
     "text": [
      "200\n"
     ]
    }
   ],
   "source": [
    "snapshot_url = 'https://www.basketball-reference.com/wnba/years/2024_games.html'\n",
    "headers = {'User-Agent': 'Mozilla/5.0'}\n",
    "snapshot_response = requests.get(snapshot_url, headers=headers)\n",
    "status_code = snapshot_response.status_code  \n",
    "print(status_code)"
   ]
  },
  {
   "cell_type": "code",
   "execution_count": 3,
   "id": "41ff078f-996d-40ed-b7ef-02d026cab405",
   "metadata": {},
   "outputs": [],
   "source": [
    "wnba_soup = BeautifulSoup(snapshot_response.content, \"html.parser\")"
   ]
  },
  {
   "cell_type": "code",
   "execution_count": 4,
   "id": "14ab2f06-4cb1-4fd3-a8f4-e92d966420c8",
   "metadata": {
    "scrolled": true
   },
   "outputs": [
    {
     "name": "stdout",
     "output_type": "stream",
     "text": [
      "ome_pts\">\n",
      "          83\n",
      "         </td>\n",
      "         <td class=\"center\" data-stat=\"box_score_text\">\n",
      "          <a href=\"/wnba/boxscores/202405230PHO.html\">\n",
      "           Box Score\n",
      "          </a>\n",
      "         </td>\n",
      "         <td class=\"left iz\" data-stat=\"notes\">\n",
      "         </td>\n",
      "        </tr>\n",
      "        <tr>\n",
      "         <th class=\"left\" csk=\"202405240LAS\" data-stat=\"date_game\" scope=\"row\">\n",
      "          Fri, May 24, 2024\n",
      "         </th>\n",
      "         <td class=\"left\" csk=\"IND.202405240LAS\" data-stat=\"visitor_team_name\">\n",
      "          <a href=\"/wnba/teams/IND/2024.html\">\n",
      "           Indiana Fever\n",
      "          </a>\n",
      "         </td>\n",
      "         <td class=\"right\" data-stat=\"visitor_pts\">\n",
      "          78\n",
      "         </td>\n",
      "         <td class=\"left\" csk=\"LAS.202405240LAS\" data-stat=\"home_team_name\">\n",
      "          <a href=\"/wnba/teams/LAS/2024.html\">\n",
      "           Los Angeles Sparks\n",
      "          </a>\n",
      "         </td>\n",
      "         <td class=\"right\" data-stat=\"home_pts\">\n",
      "          73\n",
      "         </td>\n",
      "         <td class=\"center\" data-stat=\"box_score_text\">\n",
      "          <a href=\"/wnba/boxscores/202405240LAS.html\">\n",
      "           Box Score\n",
      "          </a>\n",
      "         </td>\n",
      "         <td class=\"left iz\" data-stat=\"notes\">\n",
      "         </td>\n",
      "        </tr>\n",
      "        <tr>\n",
      "         <th class=\"left\" csk=\"202405250CHI\" data-stat=\"date_game\" scope=\"row\">\n",
      "          Sat, May 25, 2024\n",
      "         </th>\n",
      "         <td class=\"left\" csk=\"CON.202405250CHI\" data-stat=\"visitor_team_name\">\n",
      "          <a href=\"/wnba/teams/CON/2024.html\">\n",
      "           Connecticut Sun\n",
      "          </a>\n",
      "         </td>\n",
      "         <td class=\"right\" data-stat=\"visitor_pts\">\n",
      "          86\n",
      "         </td>\n",
      "         <td class=\"left\" csk=\"CHI.202405250CHI\" data-stat=\"home_team_name\">\n",
      "          <a href=\"/wnba/teams/CHI/2024.html\">\n",
      "           Chicago Sky\n",
      "          </a>\n",
      "         </td>\n",
      "         <td class=\"right\" data-stat=\"home_pts\">\n",
      "          82\n",
      "         </td>\n",
      "         <td class=\"center\" data-stat=\"box_score_text\">\n",
      "          <a href=\"/wnba/boxscores/202405250CHI.html\">\n",
      "           Box Score\n",
      "          </a>\n",
      "         </td>\n",
      "         <td class=\"left iz\" data-stat=\"notes\">\n",
      "         </td>\n",
      "        </tr>\n",
      "        <tr>\n",
      "         <th class=\"left\" csk=\"202405250LVA\" data-stat=\"date_game\" scope=\"row\">\n",
      "          Sat, May 25, 2024\n",
      "         </th>\n",
      "         <td class=\"left\" csk=\"IND.202405250LVA\" data-stat=\"visitor_team_name\">\n",
      "          <a href=\"/wnba/teams/IND/2024.html\">\n",
      "           Indiana Fever\n",
      "          </a>\n",
      "         </td>\n",
      "         <td class=\"right\" data-stat=\"visitor_pts\">\n",
      "          80\n",
      "         </td>\n",
      "         <td class=\"left\" csk=\"LVA.202405250LVA\" data-stat=\"home_team_name\">\n",
      "          <a href=\"/wnba/teams/LVA/2024.html\">\n",
      "           Las Vegas Aces\n",
      "          </a>\n",
      "         </td>\n",
      "         <td class=\"right\" data-stat=\"home_pts\">\n",
      "          99\n",
      "         </td>\n",
      "         <td class=\"center\" data-stat=\"box_score_text\">\n",
      "          <a href=\"/wnba/boxscores/202405250LVA.html\">\n",
      "           Box Score\n",
      "          </a>\n",
      "         </td>\n",
      "         <td class=\"left iz\" data-stat=\"notes\">\n",
      "         </td>\n",
      "        </tr>\n",
      "        <tr>\n",
      "         <th class=\"left\" csk=\"202405250MIN\" data-stat=\"date_game\" scope=\"row\">\n",
      "          Sat, May 25, 2024\n",
      "         </th>\n",
      "         <td class=\"left\" csk=\"NYL.202405250MIN\" data-stat=\"visitor_team_name\">\n",
      "          <a href=\"/wnba/teams/NYL/2024.html\">\n",
      "           New York Liberty\n",
      "          </a>\n",
      "         </td>\n",
      "         <td class=\"right\" data-stat=\"visitor_pts\">\n",
      "          67\n",
      "         </td>\n",
      "         <td class=\"left\" csk=\"MIN.202405250MIN\" data-stat=\"home_team_name\">\n",
      "          <a href=\"/wnba/teams/MIN/2024.html\">\n",
      "           Minnesota Lynx\n",
      "          </a>\n",
      "         </td>\n",
      "         <td class=\"right\" data-stat=\"home_pts\">\n",
      "          84\n",
      "         </td>\n",
      "         <td class=\"center\" data-stat=\"box_score_text\">\n",
      "          <a href=\"/wnba/boxscores/202405250MIN.html\">\n",
      "           Box Score\n",
      "          </a>\n",
      "         </td>\n",
      "         <td class=\"left iz\" data-stat=\"notes\">\n",
      "         </td>\n",
      "        </tr>\n",
      "        <tr>\n",
      "         <th class=\"left\" csk=\"202405250PHO\" data-stat=\"date_game\" scope=\"row\">\n",
      "          Sat, May 25, 2024\n",
      "         </th>\n",
      "     \n"
     ]
    }
   ],
   "source": [
    "print(wnba_soup.prettify()[100000:104000])"
   ]
  },
  {
   "cell_type": "code",
   "execution_count": 5,
   "id": "5bae413e-019b-44ad-905e-c6965e519e12",
   "metadata": {},
   "outputs": [],
   "source": [
    "date_vals = wnba_soup.find_all('th', {'data-stat': 'date_game'})[1:]\n",
    "dates = [date_val.get_text(strip=True) for date_val in date_vals]"
   ]
  },
  {
   "cell_type": "code",
   "execution_count": 6,
   "id": "45d7c9ba-99e9-499b-bb1e-973e525680c0",
   "metadata": {},
   "outputs": [],
   "source": [
    "visitor_vals = wnba_soup.find_all('td', {'data-stat': 'visitor_team_name'})\n",
    "visitors = [visitor_val.get_text(strip=True) for visitor_val in visitor_vals]"
   ]
  },
  {
   "cell_type": "code",
   "execution_count": 7,
   "id": "6ba45219-64dc-4c7b-baff-e74be00b154f",
   "metadata": {},
   "outputs": [],
   "source": [
    "visitor_pt_vals = wnba_soup.find_all('td', {'data-stat': 'visitor_pts'})\n",
    "visitor_pts = [visitor_pt_val.get_text(strip=True) for visitor_pt_val in visitor_pt_vals]"
   ]
  },
  {
   "cell_type": "code",
   "execution_count": 8,
   "id": "a5a23431-dfe5-4cdf-a86c-6376b41e0de0",
   "metadata": {},
   "outputs": [],
   "source": [
    "home_vals = wnba_soup.find_all('td', {'data-stat': 'home_team_name'})\n",
    "homes = [home_val.get_text(strip=True) for home_val in home_vals]"
   ]
  },
  {
   "cell_type": "code",
   "execution_count": 9,
   "id": "f15051ab-9b8e-42ac-9c05-e9e3bd95b8e0",
   "metadata": {},
   "outputs": [],
   "source": [
    "home_pt_vals = wnba_soup.find_all('td', {'data-stat': 'home_pts'})\n",
    "home_pts = [home_pt_val.get_text(strip=True) for home_pt_val in home_pt_vals]"
   ]
  },
  {
   "cell_type": "code",
   "execution_count": 10,
   "id": "10e9daaf-491f-4e80-a575-c244e883a31f",
   "metadata": {},
   "outputs": [
    {
     "data": {
      "text/plain": [
       "(240, 240, 240, 240, 240)"
      ]
     },
     "execution_count": 10,
     "metadata": {},
     "output_type": "execute_result"
    }
   ],
   "source": [
    "len(dates), len(visitors), len(visitor_pts), len(homes), len(home_pts)"
   ]
  },
  {
   "cell_type": "code",
   "execution_count": 11,
   "id": "f886c1ea-771c-4c3c-b453-2b932cb0d341",
   "metadata": {},
   "outputs": [],
   "source": [
    "days = [date.split(', ', 1)[0] for date in dates]\n",
    "dates = [datetime.strptime(date.split(', ', 1)[1], '%b %d, %Y').date() for date in dates]"
   ]
  },
  {
   "cell_type": "code",
   "execution_count": 12,
   "id": "afd93c2c-b24f-452f-acc2-e6819248a701",
   "metadata": {},
   "outputs": [],
   "source": [
    "schedule = pd.DataFrame(list(zip(days, dates, homes, visitors, home_pts, visitor_pts)),\n",
    "              columns=['Day', 'Date', 'HomeTeam', 'AwayTeam', 'HomePts', 'AwayPts'])"
   ]
  },
  {
   "cell_type": "code",
   "execution_count": 13,
   "id": "e4301129-ea32-4135-bf02-362114ceedcb",
   "metadata": {},
   "outputs": [
    {
     "data": {
      "text/html": [
       "<div>\n",
       "<style scoped>\n",
       "    .dataframe tbody tr th:only-of-type {\n",
       "        vertical-align: middle;\n",
       "    }\n",
       "\n",
       "    .dataframe tbody tr th {\n",
       "        vertical-align: top;\n",
       "    }\n",
       "\n",
       "    .dataframe thead th {\n",
       "        text-align: right;\n",
       "    }\n",
       "</style>\n",
       "<table border=\"1\" class=\"dataframe\">\n",
       "  <thead>\n",
       "    <tr style=\"text-align: right;\">\n",
       "      <th></th>\n",
       "      <th>Day</th>\n",
       "      <th>Date</th>\n",
       "      <th>HomeTeam</th>\n",
       "      <th>AwayTeam</th>\n",
       "      <th>HomePts</th>\n",
       "      <th>AwayPts</th>\n",
       "    </tr>\n",
       "  </thead>\n",
       "  <tbody>\n",
       "    <tr>\n",
       "      <th>0</th>\n",
       "      <td>Tue</td>\n",
       "      <td>2024-05-14</td>\n",
       "      <td>Connecticut Sun</td>\n",
       "      <td>Indiana Fever</td>\n",
       "      <td>92</td>\n",
       "      <td>71</td>\n",
       "    </tr>\n",
       "    <tr>\n",
       "      <th>1</th>\n",
       "      <td>Tue</td>\n",
       "      <td>2024-05-14</td>\n",
       "      <td>Las Vegas Aces</td>\n",
       "      <td>Phoenix Mercury</td>\n",
       "      <td>89</td>\n",
       "      <td>80</td>\n",
       "    </tr>\n",
       "    <tr>\n",
       "      <th>2</th>\n",
       "      <td>Tue</td>\n",
       "      <td>2024-05-14</td>\n",
       "      <td>Seattle Storm</td>\n",
       "      <td>Minnesota Lynx</td>\n",
       "      <td>70</td>\n",
       "      <td>83</td>\n",
       "    </tr>\n",
       "    <tr>\n",
       "      <th>3</th>\n",
       "      <td>Tue</td>\n",
       "      <td>2024-05-14</td>\n",
       "      <td>Washington Mystics</td>\n",
       "      <td>New York Liberty</td>\n",
       "      <td>80</td>\n",
       "      <td>85</td>\n",
       "    </tr>\n",
       "    <tr>\n",
       "      <th>4</th>\n",
       "      <td>Wed</td>\n",
       "      <td>2024-05-15</td>\n",
       "      <td>Dallas Wings</td>\n",
       "      <td>Chicago Sky</td>\n",
       "      <td>87</td>\n",
       "      <td>79</td>\n",
       "    </tr>\n",
       "  </tbody>\n",
       "</table>\n",
       "</div>"
      ],
      "text/plain": [
       "   Day        Date            HomeTeam          AwayTeam HomePts AwayPts\n",
       "0  Tue  2024-05-14     Connecticut Sun     Indiana Fever      92      71\n",
       "1  Tue  2024-05-14      Las Vegas Aces   Phoenix Mercury      89      80\n",
       "2  Tue  2024-05-14       Seattle Storm    Minnesota Lynx      70      83\n",
       "3  Tue  2024-05-14  Washington Mystics  New York Liberty      80      85\n",
       "4  Wed  2024-05-15        Dallas Wings       Chicago Sky      87      79"
      ]
     },
     "execution_count": 13,
     "metadata": {},
     "output_type": "execute_result"
    }
   ],
   "source": [
    "schedule.head(5)"
   ]
  },
  {
   "cell_type": "code",
   "execution_count": 27,
   "id": "2ede1512-f1f4-405f-a040-68ee9b92e112",
   "metadata": {},
   "outputs": [
    {
     "name": "stdout",
     "output_type": "stream",
     "text": [
      "Today is 2024-06-13\n"
     ]
    }
   ],
   "source": [
    "today = (date.today())#.strftime('%Y-%m-%d')\n",
    "print(\"Today is\", today.strftime('%Y-%m-%d'))"
   ]
  },
  {
   "cell_type": "code",
   "execution_count": 40,
   "id": "e79f4538-f7e6-4230-b4e9-9a604b7959e1",
   "metadata": {},
   "outputs": [
    {
     "data": {
      "text/html": [
       "<div>\n",
       "<style scoped>\n",
       "    .dataframe tbody tr th:only-of-type {\n",
       "        vertical-align: middle;\n",
       "    }\n",
       "\n",
       "    .dataframe tbody tr th {\n",
       "        vertical-align: top;\n",
       "    }\n",
       "\n",
       "    .dataframe thead th {\n",
       "        text-align: right;\n",
       "    }\n",
       "</style>\n",
       "<table border=\"1\" class=\"dataframe\">\n",
       "  <thead>\n",
       "    <tr style=\"text-align: right;\">\n",
       "      <th></th>\n",
       "      <th>Day</th>\n",
       "      <th>Date</th>\n",
       "      <th>HomeTeam</th>\n",
       "      <th>AwayTeam</th>\n",
       "      <th>HomePts</th>\n",
       "      <th>AwayPts</th>\n",
       "    </tr>\n",
       "  </thead>\n",
       "  <tbody>\n",
       "    <tr>\n",
       "      <th>0</th>\n",
       "      <td>Tue</td>\n",
       "      <td>2024-05-14</td>\n",
       "      <td>Connecticut Sun</td>\n",
       "      <td>Indiana Fever</td>\n",
       "      <td>92</td>\n",
       "      <td>71</td>\n",
       "    </tr>\n",
       "    <tr>\n",
       "      <th>1</th>\n",
       "      <td>Tue</td>\n",
       "      <td>2024-05-14</td>\n",
       "      <td>Las Vegas Aces</td>\n",
       "      <td>Phoenix Mercury</td>\n",
       "      <td>89</td>\n",
       "      <td>80</td>\n",
       "    </tr>\n",
       "    <tr>\n",
       "      <th>2</th>\n",
       "      <td>Tue</td>\n",
       "      <td>2024-05-14</td>\n",
       "      <td>Seattle Storm</td>\n",
       "      <td>Minnesota Lynx</td>\n",
       "      <td>70</td>\n",
       "      <td>83</td>\n",
       "    </tr>\n",
       "    <tr>\n",
       "      <th>3</th>\n",
       "      <td>Tue</td>\n",
       "      <td>2024-05-14</td>\n",
       "      <td>Washington Mystics</td>\n",
       "      <td>New York Liberty</td>\n",
       "      <td>80</td>\n",
       "      <td>85</td>\n",
       "    </tr>\n",
       "    <tr>\n",
       "      <th>4</th>\n",
       "      <td>Wed</td>\n",
       "      <td>2024-05-15</td>\n",
       "      <td>Dallas Wings</td>\n",
       "      <td>Chicago Sky</td>\n",
       "      <td>87</td>\n",
       "      <td>79</td>\n",
       "    </tr>\n",
       "    <tr>\n",
       "      <th>...</th>\n",
       "      <td>...</td>\n",
       "      <td>...</td>\n",
       "      <td>...</td>\n",
       "      <td>...</td>\n",
       "      <td>...</td>\n",
       "      <td>...</td>\n",
       "    </tr>\n",
       "    <tr>\n",
       "      <th>60</th>\n",
       "      <td>Sat</td>\n",
       "      <td>2024-06-08</td>\n",
       "      <td>Connecticut Sun</td>\n",
       "      <td>New York Liberty</td>\n",
       "      <td>75</td>\n",
       "      <td>82</td>\n",
       "    </tr>\n",
       "    <tr>\n",
       "      <th>61</th>\n",
       "      <td>Sun</td>\n",
       "      <td>2024-06-09</td>\n",
       "      <td>Dallas Wings</td>\n",
       "      <td>Phoenix Mercury</td>\n",
       "      <td>90</td>\n",
       "      <td>97</td>\n",
       "    </tr>\n",
       "    <tr>\n",
       "      <th>62</th>\n",
       "      <td>Sun</td>\n",
       "      <td>2024-06-09</td>\n",
       "      <td>Los Angeles Sparks</td>\n",
       "      <td>Las Vegas Aces</td>\n",
       "      <td>96</td>\n",
       "      <td>92</td>\n",
       "    </tr>\n",
       "    <tr>\n",
       "      <th>63</th>\n",
       "      <td>Sun</td>\n",
       "      <td>2024-06-09</td>\n",
       "      <td>Minnesota Lynx</td>\n",
       "      <td>Seattle Storm</td>\n",
       "      <td>83</td>\n",
       "      <td>64</td>\n",
       "    </tr>\n",
       "    <tr>\n",
       "      <th>64</th>\n",
       "      <td>Sun</td>\n",
       "      <td>2024-06-09</td>\n",
       "      <td>New York Liberty</td>\n",
       "      <td>Washington Mystics</td>\n",
       "      <td>93</td>\n",
       "      <td>88</td>\n",
       "    </tr>\n",
       "  </tbody>\n",
       "</table>\n",
       "<p>65 rows × 6 columns</p>\n",
       "</div>"
      ],
      "text/plain": [
       "    Day        Date            HomeTeam            AwayTeam HomePts AwayPts\n",
       "0   Tue  2024-05-14     Connecticut Sun       Indiana Fever      92      71\n",
       "1   Tue  2024-05-14      Las Vegas Aces     Phoenix Mercury      89      80\n",
       "2   Tue  2024-05-14       Seattle Storm      Minnesota Lynx      70      83\n",
       "3   Tue  2024-05-14  Washington Mystics    New York Liberty      80      85\n",
       "4   Wed  2024-05-15        Dallas Wings         Chicago Sky      87      79\n",
       "..  ...         ...                 ...                 ...     ...     ...\n",
       "60  Sat  2024-06-08     Connecticut Sun    New York Liberty      75      82\n",
       "61  Sun  2024-06-09        Dallas Wings     Phoenix Mercury      90      97\n",
       "62  Sun  2024-06-09  Los Angeles Sparks      Las Vegas Aces      96      92\n",
       "63  Sun  2024-06-09      Minnesota Lynx       Seattle Storm      83      64\n",
       "64  Sun  2024-06-09    New York Liberty  Washington Mystics      93      88\n",
       "\n",
       "[65 rows x 6 columns]"
      ]
     },
     "execution_count": 40,
     "metadata": {},
     "output_type": "execute_result"
    }
   ],
   "source": [
    "current_schedule = schedule[schedule['Date'] < today]\n",
    "current_schedule.head(-5)"
   ]
  },
  {
   "cell_type": "code",
   "execution_count": 42,
   "id": "96417f4a-02ab-407e-a7ac-3e9ef8358730",
   "metadata": {},
   "outputs": [],
   "source": [
    "current_schedule.loc[:, 'HomePts'] = current_schedule['HomePts'].astype(int)\n",
    "current_schedule.loc[:, 'AwayPts'] = current_schedule['AwayPts'].astype(int)"
   ]
  },
  {
   "cell_type": "code",
   "execution_count": 44,
   "id": "d1a89270-b0ba-4105-a17d-3ac1761fb79f",
   "metadata": {},
   "outputs": [
    {
     "name": "stdout",
     "output_type": "stream",
     "text": [
      "<class 'pandas.core.frame.DataFrame'>\n",
      "Index: 70 entries, 0 to 69\n",
      "Data columns (total 6 columns):\n",
      " #   Column    Non-Null Count  Dtype \n",
      "---  ------    --------------  ----- \n",
      " 0   Day       70 non-null     object\n",
      " 1   Date      70 non-null     object\n",
      " 2   HomeTeam  70 non-null     object\n",
      " 3   AwayTeam  70 non-null     object\n",
      " 4   HomePts   70 non-null     int64 \n",
      " 5   AwayPts   70 non-null     int64 \n",
      "dtypes: int64(2), object(4)\n",
      "memory usage: 3.8+ KB\n"
     ]
    }
   ],
   "source": [
    "current_schedule.info()"
   ]
  }
 ],
 "metadata": {
  "kernelspec": {
   "display_name": "Python 3 (ipykernel)",
   "language": "python",
   "name": "python3"
  },
  "language_info": {
   "codemirror_mode": {
    "name": "ipython",
    "version": 3
   },
   "file_extension": ".py",
   "mimetype": "text/x-python",
   "name": "python",
   "nbconvert_exporter": "python",
   "pygments_lexer": "ipython3",
   "version": "3.11.5"
  }
 },
 "nbformat": 4,
 "nbformat_minor": 5
}
